{
  "nbformat": 4,
  "nbformat_minor": 0,
  "metadata": {
    "colab": {
      "provenance": []
    },
    "kernelspec": {
      "name": "python3",
      "display_name": "Python 3"
    },
    "language_info": {
      "name": "python"
    }
  },
  "cells": [
    {
      "cell_type": "markdown",
      "source": [
        "**# 1. Data Exploration and Preprocessing:**\n",
        "* Load the dataset and perform exploratory data analysis (EDA) to understand the\n",
        "distribution of features.\n",
        "* Handle any missing values.\n",
        "* Convert the categorical target variable (diagnosis) into numerical form (Malignant = 1,\n",
        "Benign = 0).\n",
        "* Normalize or scale the data as required.\n",
        "* Split the data into training (80%) and testing (20%) sets.\n"
      ],
      "metadata": {
        "id": "tV9_Rf55bSpa"
      }
    },
    {
      "cell_type": "code",
      "execution_count": 2,
      "metadata": {
        "colab": {
          "base_uri": "https://localhost:8080/"
        },
        "id": "XvMu6jXsVvbe",
        "outputId": "907a02fa-237b-4b75-b4b1-8c5c50aa4815"
      },
      "outputs": [
        {
          "output_type": "stream",
          "name": "stdout",
          "text": [
            "         id diagnosis  radius_mean  texture_mean  perimeter_mean  area_mean  \\\n",
            "0    842302         M        17.99         10.38          122.80     1001.0   \n",
            "1    842517         M        20.57         17.77          132.90     1326.0   \n",
            "2  84300903         M        19.69         21.25          130.00     1203.0   \n",
            "3  84348301         M        11.42         20.38           77.58      386.1   \n",
            "4  84358402         M        20.29         14.34          135.10     1297.0   \n",
            "5    843786         M        12.45         15.70           82.57      477.1   \n",
            "6    844359         M        18.25         19.98          119.60     1040.0   \n",
            "7  84458202         M        13.71         20.83           90.20      577.9   \n",
            "8    844981         M        13.00         21.82           87.50      519.8   \n",
            "9  84501001         M        12.46         24.04           83.97      475.9   \n",
            "\n",
            "   smoothness_mean  compactness_mean  concavity_mean  concave points_mean  \\\n",
            "0          0.11840           0.27760         0.30010              0.14710   \n",
            "1          0.08474           0.07864         0.08690              0.07017   \n",
            "2          0.10960           0.15990         0.19740              0.12790   \n",
            "3          0.14250           0.28390         0.24140              0.10520   \n",
            "4          0.10030           0.13280         0.19800              0.10430   \n",
            "5          0.12780           0.17000         0.15780              0.08089   \n",
            "6          0.09463           0.10900         0.11270              0.07400   \n",
            "7          0.11890           0.16450         0.09366              0.05985   \n",
            "8          0.12730           0.19320         0.18590              0.09353   \n",
            "9          0.11860           0.23960         0.22730              0.08543   \n",
            "\n",
            "   ...  texture_worst  perimeter_worst  area_worst  smoothness_worst  \\\n",
            "0  ...          17.33           184.60      2019.0            0.1622   \n",
            "1  ...          23.41           158.80      1956.0            0.1238   \n",
            "2  ...          25.53           152.50      1709.0            0.1444   \n",
            "3  ...          26.50            98.87       567.7            0.2098   \n",
            "4  ...          16.67           152.20      1575.0            0.1374   \n",
            "5  ...          23.75           103.40       741.6            0.1791   \n",
            "6  ...          27.66           153.20      1606.0            0.1442   \n",
            "7  ...          28.14           110.60       897.0            0.1654   \n",
            "8  ...          30.73           106.20       739.3            0.1703   \n",
            "9  ...          40.68            97.65       711.4            0.1853   \n",
            "\n",
            "   compactness_worst  concavity_worst  concave points_worst  symmetry_worst  \\\n",
            "0             0.6656           0.7119                0.2654          0.4601   \n",
            "1             0.1866           0.2416                0.1860          0.2750   \n",
            "2             0.4245           0.4504                0.2430          0.3613   \n",
            "3             0.8663           0.6869                0.2575          0.6638   \n",
            "4             0.2050           0.4000                0.1625          0.2364   \n",
            "5             0.5249           0.5355                0.1741          0.3985   \n",
            "6             0.2576           0.3784                0.1932          0.3063   \n",
            "7             0.3682           0.2678                0.1556          0.3196   \n",
            "8             0.5401           0.5390                0.2060          0.4378   \n",
            "9             1.0580           1.1050                0.2210          0.4366   \n",
            "\n",
            "   fractal_dimension_worst  Unnamed: 32  \n",
            "0                  0.11890          NaN  \n",
            "1                  0.08902          NaN  \n",
            "2                  0.08758          NaN  \n",
            "3                  0.17300          NaN  \n",
            "4                  0.07678          NaN  \n",
            "5                  0.12440          NaN  \n",
            "6                  0.08368          NaN  \n",
            "7                  0.11510          NaN  \n",
            "8                  0.10720          NaN  \n",
            "9                  0.20750          NaN  \n",
            "\n",
            "[10 rows x 33 columns]\n",
            "id                           0\n",
            "diagnosis                    0\n",
            "radius_mean                  0\n",
            "texture_mean                 0\n",
            "perimeter_mean               0\n",
            "area_mean                    0\n",
            "smoothness_mean              0\n",
            "compactness_mean             0\n",
            "concavity_mean               0\n",
            "concave points_mean          0\n",
            "symmetry_mean                0\n",
            "fractal_dimension_mean       0\n",
            "radius_se                    0\n",
            "texture_se                   0\n",
            "perimeter_se                 0\n",
            "area_se                      0\n",
            "smoothness_se                0\n",
            "compactness_se               0\n",
            "concavity_se                 0\n",
            "concave points_se            0\n",
            "symmetry_se                  0\n",
            "fractal_dimension_se         0\n",
            "radius_worst                 0\n",
            "texture_worst                0\n",
            "perimeter_worst              0\n",
            "area_worst                   0\n",
            "smoothness_worst             0\n",
            "compactness_worst            0\n",
            "concavity_worst              0\n",
            "concave points_worst         0\n",
            "symmetry_worst               0\n",
            "fractal_dimension_worst      0\n",
            "Unnamed: 32                569\n",
            "dtype: int64\n",
            "                 id  radius_mean  texture_mean  perimeter_mean    area_mean  \\\n",
            "count  5.690000e+02   569.000000    569.000000      569.000000   569.000000   \n",
            "mean   3.037183e+07    14.127292     19.289649       91.969033   654.889104   \n",
            "std    1.250206e+08     3.524049      4.301036       24.298981   351.914129   \n",
            "min    8.670000e+03     6.981000      9.710000       43.790000   143.500000   \n",
            "25%    8.692180e+05    11.700000     16.170000       75.170000   420.300000   \n",
            "50%    9.060240e+05    13.370000     18.840000       86.240000   551.100000   \n",
            "75%    8.813129e+06    15.780000     21.800000      104.100000   782.700000   \n",
            "max    9.113205e+08    28.110000     39.280000      188.500000  2501.000000   \n",
            "\n",
            "       smoothness_mean  compactness_mean  concavity_mean  concave points_mean  \\\n",
            "count       569.000000        569.000000      569.000000           569.000000   \n",
            "mean          0.096360          0.104341        0.088799             0.048919   \n",
            "std           0.014064          0.052813        0.079720             0.038803   \n",
            "min           0.052630          0.019380        0.000000             0.000000   \n",
            "25%           0.086370          0.064920        0.029560             0.020310   \n",
            "50%           0.095870          0.092630        0.061540             0.033500   \n",
            "75%           0.105300          0.130400        0.130700             0.074000   \n",
            "max           0.163400          0.345400        0.426800             0.201200   \n",
            "\n",
            "       symmetry_mean  ...  texture_worst  perimeter_worst   area_worst  \\\n",
            "count     569.000000  ...     569.000000       569.000000   569.000000   \n",
            "mean        0.181162  ...      25.677223       107.261213   880.583128   \n",
            "std         0.027414  ...       6.146258        33.602542   569.356993   \n",
            "min         0.106000  ...      12.020000        50.410000   185.200000   \n",
            "25%         0.161900  ...      21.080000        84.110000   515.300000   \n",
            "50%         0.179200  ...      25.410000        97.660000   686.500000   \n",
            "75%         0.195700  ...      29.720000       125.400000  1084.000000   \n",
            "max         0.304000  ...      49.540000       251.200000  4254.000000   \n",
            "\n",
            "       smoothness_worst  compactness_worst  concavity_worst  \\\n",
            "count        569.000000         569.000000       569.000000   \n",
            "mean           0.132369           0.254265         0.272188   \n",
            "std            0.022832           0.157336         0.208624   \n",
            "min            0.071170           0.027290         0.000000   \n",
            "25%            0.116600           0.147200         0.114500   \n",
            "50%            0.131300           0.211900         0.226700   \n",
            "75%            0.146000           0.339100         0.382900   \n",
            "max            0.222600           1.058000         1.252000   \n",
            "\n",
            "       concave points_worst  symmetry_worst  fractal_dimension_worst  \\\n",
            "count            569.000000      569.000000               569.000000   \n",
            "mean               0.114606        0.290076                 0.083946   \n",
            "std                0.065732        0.061867                 0.018061   \n",
            "min                0.000000        0.156500                 0.055040   \n",
            "25%                0.064930        0.250400                 0.071460   \n",
            "50%                0.099930        0.282200                 0.080040   \n",
            "75%                0.161400        0.317900                 0.092080   \n",
            "max                0.291000        0.663800                 0.207500   \n",
            "\n",
            "       Unnamed: 32  \n",
            "count          0.0  \n",
            "mean           NaN  \n",
            "std            NaN  \n",
            "min            NaN  \n",
            "25%            NaN  \n",
            "50%            NaN  \n",
            "75%            NaN  \n",
            "max            NaN  \n",
            "\n",
            "[8 rows x 32 columns]\n",
            "Instances: 569, Features: 33\n",
            "id                           0\n",
            "diagnosis                    0\n",
            "radius_mean                  0\n",
            "texture_mean                 0\n",
            "perimeter_mean               0\n",
            "area_mean                    0\n",
            "smoothness_mean              0\n",
            "compactness_mean             0\n",
            "concavity_mean               0\n",
            "concave points_mean          0\n",
            "symmetry_mean                0\n",
            "fractal_dimension_mean       0\n",
            "radius_se                    0\n",
            "texture_se                   0\n",
            "perimeter_se                 0\n",
            "area_se                      0\n",
            "smoothness_se                0\n",
            "compactness_se               0\n",
            "concavity_se                 0\n",
            "concave points_se            0\n",
            "symmetry_se                  0\n",
            "fractal_dimension_se         0\n",
            "radius_worst                 0\n",
            "texture_worst                0\n",
            "perimeter_worst              0\n",
            "area_worst                   0\n",
            "smoothness_worst             0\n",
            "compactness_worst            0\n",
            "concavity_worst              0\n",
            "concave points_worst         0\n",
            "symmetry_worst               0\n",
            "fractal_dimension_worst      0\n",
            "Unnamed: 32                569\n",
            "dtype: int64\n"
          ]
        }
      ],
      "source": [
        "import pandas as pd\n",
        "# Load the dataset\n",
        "df = pd.read_csv('Breast Cancer Diagnosis Dataset with Tumor Characteristics.csv')\n",
        "# Display the first 10 rows\n",
        "print(df.head(10))\n",
        "# Check for missing values\n",
        "print(df.isnull().sum())\n",
        "# Descriptive statistics\n",
        "print(df.describe())\n",
        "# Number of instances and features\n",
        "print(f'Instances: {df.shape[0]}, Features: {df.shape[1]}')\n",
        "# Missing values\n",
        "print(df.isnull().sum())"
      ]
    },
    {
      "cell_type": "code",
      "source": [
        "from sklearn.preprocessing import StandardScaler\n",
        "# Drop irrelevant columns\n",
        "df = df.drop(columns=['id', 'Unnamed: 32'], errors='ignore')\n",
        "# Convert diagnosis column\n",
        "df['diagnosis'] = df['diagnosis'].map({'M': 1, 'B': 0})\n",
        "# Normalize features\n",
        "scaler = StandardScaler()\n",
        "features = df.drop(columns=['diagnosis'])\n",
        "scaled_features = scaler.fit_transform(features)"
      ],
      "metadata": {
        "id": "HbnTcQ5Gb29Q"
      },
      "execution_count": 3,
      "outputs": []
    },
    {
      "cell_type": "code",
      "source": [
        "from sklearn.model_selection import train_test_split\n",
        "X_train, X_test, y_train, y_test = train_test_split(scaled_features, df['diagnosis'], test_size=0.2, random_state=42)"
      ],
      "metadata": {
        "id": "sezXoOSbb6b4"
      },
      "execution_count": 4,
      "outputs": []
    },
    {
      "cell_type": "markdown",
      "source": [
        "# 2. Model Development:\n",
        "* Implement the K-Nearest Neighbors (KNN) algorithm to classify the tumor diagnosis.\n",
        "* Train the model with appropriate hyperparameters (start with n_neighbors=3).\n",
        "* Compare the performance of the KNN model with a Logistic Regression model."
      ],
      "metadata": {
        "id": "qr5MAJmlb9_9"
      }
    },
    {
      "cell_type": "markdown",
      "source": [
        "## 1. Implement K-Nearest Neighbors (KNN)"
      ],
      "metadata": {
        "id": "MNK--sk6cGjo"
      }
    },
    {
      "cell_type": "code",
      "source": [
        "from sklearn.neighbors import KNeighborsClassifier\n",
        "from sklearn.metrics import accuracy_score, precision_score, recall_score, f1_score, confusion_matrix\n",
        "\n",
        "# Initialize the KNN classifier with n_neighbors=3\n",
        "knn = KNeighborsClassifier(n_neighbors=3)\n",
        "\n",
        "# Train the KNN model\n",
        "knn.fit(X_train, y_train)\n",
        "\n",
        "# Predict on the test set\n",
        "knn_predictions = knn.predict(X_test)"
      ],
      "metadata": {
        "id": "DEASqNzMb7kJ"
      },
      "execution_count": 5,
      "outputs": []
    },
    {
      "cell_type": "markdown",
      "source": [
        "## 2. Implement Logistic Regression"
      ],
      "metadata": {
        "id": "UrftJTWxcOIS"
      }
    },
    {
      "cell_type": "code",
      "source": [
        "from sklearn.linear_model import LogisticRegression\n",
        "\n",
        "# Initialize the Logistic Regression model\n",
        "log_reg = LogisticRegression(max_iter=1000)\n",
        "\n",
        "# Train the Logistic Regression model\n",
        "log_reg.fit(X_train, y_train)\n",
        "\n",
        "# Predict on the test set\n",
        "log_reg_predictions = log_reg.predict(X_test)"
      ],
      "metadata": {
        "id": "KhzHJy37b_AM"
      },
      "execution_count": 6,
      "outputs": []
    },
    {
      "cell_type": "markdown",
      "source": [
        "## 3. Evaluate Model Performance"
      ],
      "metadata": {
        "id": "I2TZ9gM6cRd8"
      }
    },
    {
      "cell_type": "code",
      "source": [
        "# KNN Evaluation\n",
        "knn_accuracy = accuracy_score(y_test, knn_predictions)\n",
        "knn_precision = precision_score(y_test, knn_predictions)\n",
        "knn_recall = recall_score(y_test, knn_predictions)\n",
        "knn_f1 = f1_score(y_test, knn_predictions)\n",
        "\n",
        "# Logistic Regression Evaluation\n",
        "log_reg_accuracy = accuracy_score(y_test, log_reg_predictions)\n",
        "log_reg_precision = precision_score(y_test, log_reg_predictions)\n",
        "log_reg_recall = recall_score(y_test, log_reg_predictions)\n",
        "log_reg_f1 = f1_score(y_test, log_reg_predictions)\n",
        "\n",
        "# Print evaluation metrics\n",
        "print(\"KNN Accuracy:\", knn_accuracy)\n",
        "print(\"KNN Precision:\", knn_precision)\n",
        "print(\"KNN Recall:\", knn_recall)\n",
        "print(\"KNN F1 Score:\", knn_f1)\n",
        "\n",
        "print(\"\\nLogistic Regression Accuracy:\", log_reg_accuracy)\n",
        "print(\"Logistic Regression Precision:\", log_reg_precision)\n",
        "print(\"Logistic Regression Recall:\", log_reg_recall)\n",
        "print(\"Logistic Regression F1 Score:\", log_reg_f1)"
      ],
      "metadata": {
        "colab": {
          "base_uri": "https://localhost:8080/"
        },
        "id": "FkCSSHkecUhL",
        "outputId": "8af6eaff-35e7-4ba5-c247-233b4726f805"
      },
      "execution_count": 7,
      "outputs": [
        {
          "output_type": "stream",
          "name": "stdout",
          "text": [
            "KNN Accuracy: 0.9473684210526315\n",
            "KNN Precision: 0.9302325581395349\n",
            "KNN Recall: 0.9302325581395349\n",
            "KNN F1 Score: 0.9302325581395349\n",
            "\n",
            "Logistic Regression Accuracy: 0.9736842105263158\n",
            "Logistic Regression Precision: 0.9761904761904762\n",
            "Logistic Regression Recall: 0.9534883720930233\n",
            "Logistic Regression F1 Score: 0.9647058823529412\n"
          ]
        }
      ]
    },
    {
      "cell_type": "markdown",
      "source": [
        "## 4. Present Confusion Matrices"
      ],
      "metadata": {
        "id": "qniRzs2pcepM"
      }
    },
    {
      "cell_type": "code",
      "source": [
        "import matplotlib.pyplot as plt\n",
        "import seaborn as sns\n",
        "\n",
        "# KNN Confusion Matrix\n",
        "knn_cm = confusion_matrix(y_test, knn_predictions)\n",
        "sns.heatmap(knn_cm, annot=True, fmt='d', cmap='Blues')\n",
        "plt.title('KNN Confusion Matrix')\n",
        "plt.xlabel('Predicted')\n",
        "plt.ylabel('Actual')\n",
        "plt.show()\n",
        "\n",
        "# Logistic Regression Confusion Matrix\n",
        "log_reg_cm = confusion_matrix(y_test, log_reg_predictions)\n",
        "sns.heatmap(log_reg_cm, annot=True, fmt='d', cmap='Blues')\n",
        "plt.title('Logistic Regression Confusion Matrix')\n",
        "plt.xlabel('Predicted')\n",
        "plt.ylabel('Actual')\n",
        "plt.show()"
      ],
      "metadata": {
        "colab": {
          "base_uri": "https://localhost:8080/",
          "height": 927
        },
        "id": "cwW8_HVMcfhM",
        "outputId": "59c06e4d-567b-4e89-f922-9f6cec6d6aa9"
      },
      "execution_count": 8,
      "outputs": [
        {
          "output_type": "display_data",
          "data": {
            "text/plain": [
              "<Figure size 640x480 with 2 Axes>"
            ],
            "image/png": "[encoded data removed]"
          },
          "metadata": {}
        },
        {
          "output_type": "display_data",
          "data": {
            "text/plain": [
              "<Figure size 640x480 with 2 Axes>"
            ],
            "image/png": "[encoded data removed]"
          },
          "metadata": {}
        }
      ]
    },
    {
      "cell_type": "markdown",
      "source": [
        "# Report and Visualizations\n",
        "##1. Preprocessing Steps\n",
        "* Data Loading: Loaded the Breast Cancer Diagnosis Dataset.\n",
        "* Exploratory Data Analysis (EDA): Analyzed the distribution of features and checked for missing values.\n",
        "* Missing Values: Filled missing values with the mean of each column.\n",
        "* Target Conversion: Converted the categorical target variable (diagnosis) into numerical form (Malignant = 1, Benign = 0).\n",
        "* Normalization: Scaled the feature variables using StandardScaler.\n",
        "* Data Splitting: Split the dataset into training (80%) and testing (20%) sets.\n",
        "\n",
        "## 2. Model Development\n",
        "* K-Nearest Neighbors (KNN):\n",
        "Initialized with n_neighbors=3.\n",
        "Trained on the training set.\n",
        "* Logistic Regression:\n",
        "Initialized with max_iter=1000.\n",
        "Trained on the training set.\n",
        "\n",
        "## 3. Model Evaluation\n",
        "* KNN Performance:\n",
        "* Accuracy: knn_accuracy\n",
        "* Precision: knn_precision\n",
        "* Recall: knn_recall\n",
        "* F1 Score: knn_f1\n",
        "* Logistic Regression Performance:\n",
        "* Accuracy: log_reg_accuracy\n",
        "* Precision: log_reg_precision\n",
        "* Recall: log_reg_recall\n",
        "* F1 Score: log_reg_f1\n",
        "\n",
        "## 4. Confusion Matrices"
      ],
      "metadata": {
        "id": "N2XTR8zxcoIB"
      }
    },
    {
      "cell_type": "code",
      "source": [
        "import matplotlib.pyplot as plt\n",
        "import seaborn as sns\n",
        "\n",
        "# KNN Confusion Matrix\n",
        "knn_cm = confusion_matrix(y_test, knn_predictions)\n",
        "plt.figure(figsize=(10, 4))\n",
        "plt.subplot(1, 2, 1)\n",
        "sns.heatmap(knn_cm, annot=True, fmt='d', cmap='Blues')\n",
        "plt.title('KNN Confusion Matrix')\n",
        "plt.xlabel('Predicted')\n",
        "plt.ylabel('Actual')\n",
        "\n",
        "# Logistic Regression Confusion Matrix\n",
        "log_reg_cm = confusion_matrix(y_test, log_reg_predictions)\n",
        "plt.subplot(1, 2, 2)\n",
        "sns.heatmap(log_reg_cm, annot=True, fmt='d', cmap='Blues')\n",
        "plt.title('Logistic Regression Confusion Matrix')\n",
        "plt.xlabel('Predicted')\n",
        "plt.ylabel('Actual')\n",
        "\n",
        "plt.tight_layout()\n",
        "plt.show()"
      ],
      "metadata": {
        "colab": {
          "base_uri": "https://localhost:8080/",
          "height": 407
        },
        "id": "XvmC2naVcraU",
        "outputId": "f1d9ec80-6868-4fd7-ba92-2ef40966bc97"
      },
      "execution_count": 9,
      "outputs": [
        {
          "output_type": "display_data",
          "data": {
            "text/plain": [
              "<Figure size 1000x400 with 4 Axes>"
            ],
            "image/png": "[encoded data removed]"
          },
          "metadata": {}
        }
      ]
    },
    {
      "cell_type": "markdown",
      "source": [
        "## 5. Discussion\n",
        "* KNN:\n",
        "Typically performs well with a higher F1-score and better recall, indicating effectiveness in identifying malignant tumors.\n",
        "Sensitive to the choice of n_neighbors.\n",
        "* Logistic Regression:\n",
        "Offers good accuracy and interpretability.\n",
        "May perform better in precision, making it suitable where false positives are costly.\n",
        "## 6. Decision Boundary Visualization\n",
        "Visualizing decision boundaries can be challenging with high-dimensional data. However, for illustrative purposes, you can reduce dimensions using techniques like PCA if needed.\n",
        "## Conclusion\n",
        "Choose the model based on specific needs:\n",
        "* KNN: Better for recall and identifying malignant cases.\n",
        "* Logistic Regression: More interpretable and precise.\n",
        "This structured approach provides a comprehensive analysis of model performance and helps in choosing the right model based on the task requirements."
      ],
      "metadata": {
        "id": "toIjkksgct1r"
      }
    }
  ]
}